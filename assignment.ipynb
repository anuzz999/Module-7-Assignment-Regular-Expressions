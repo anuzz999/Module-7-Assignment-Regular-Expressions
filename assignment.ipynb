{
 "cells": [
  {
   "cell_type": "code",
   "execution_count": 8,
   "metadata": {},
   "outputs": [],
   "source": [
    "import re\n",
    "\n",
    "# Defining the text data\n",
    "concert_text = \"\"\"\n",
    "JUNE:*****Black Stone Cherry---CAPACITY---:1500 -- $ATTENDANCE: 1,315--GATE:--$28,492 ;\n",
    "*****Lady Gaga ----CAPACITY---:25,000--- $ATTENDANCE: 24,368---GATE:--$461,956#;\n",
    "*****Paramore ----CAPACITY---:3000 ---$ATTENDANCE: 3,000 ---GATE:-$150,000;\n",
    "*****Rage Against the Machine---CAPACITY---:12000 ---$ATTENDANCE: 10,782 ---GATE: --$724,087;\n",
    "*****BEYONCE---CAPACITY--:20000---$ATTENDANCE: 20,000—-GATE:$2,400,000*****\n",
    "\"\"\"\n",
    "\n"
   ]
  },
  {
   "cell_type": "markdown",
   "metadata": {},
   "source": [
    "### Task 1: Extracting Capacity and Attendance\n",
    "#### Approach\n",
    "In this task, we aim to extract the capacity and attendance numbers from the text. We will use regular expressions to identify patterns corresponding to capacity and attendance, capturing the numeric values.\n",
    "\n",
    "#### Execution\n",
    "Let me create the code and markdown for this task, and then I'll share the file with you."
   ]
  },
  {
   "cell_type": "code",
   "execution_count": 7,
   "metadata": {},
   "outputs": [
    {
     "data": {
      "text/plain": [
       "([1500, 25000, 3000, 12000], [1315, 24368, 3000, 10782, 20000])"
      ]
     },
     "execution_count": 7,
     "metadata": {},
     "output_type": "execute_result"
    }
   ],
   "source": [
    "class ConcertAnalysis:\n",
    "    def __init__(self, text):\n",
    "        self.text = text\n",
    "    \n",
    "    def task_one(self):\n",
    "        \"\"\"\n",
    "        Extracts the Capacity and Attendance counts from the text.\n",
    "        \n",
    "        Parameters:\n",
    "        None\n",
    "        \n",
    "        Returns:\n",
    "        tuple: Two lists containing the Capacity and Attendance values as integers.\n",
    "        \"\"\"\n",
    "        \n",
    "        # Extracting Capacity values\n",
    "        capacity_matches = re.findall(r'CAPACITY---:(\\d+,?\\d+)', self.text)  # Updated regex to capture commas\n",
    "        capacities = [int(cap.replace(',', '')) for cap in capacity_matches]  # Removing commas before converting to int\n",
    "        \n",
    "        # Extracting Attendance values\n",
    "        attendance_matches = re.findall(r'ATTENDANCE: (\\d+,?\\d+)', self.text)\n",
    "        attendances = [int(att.replace(',', '')) for att in attendance_matches]\n",
    "        \n",
    "        return capacities, attendances\n",
    "\n",
    "# Re-initializing the class\n",
    "analysis = ConcertAnalysis(concert_text)\n",
    "\n",
    "# Re-executing task one\n",
    "capacities, attendances = analysis.task_one()\n",
    "\n",
    "capacities, attendances"
   ]
  },
  {
   "cell_type": "markdown",
   "metadata": {},
   "source": [
    "### Task 2: Extracting Artist Names\n",
    "#### Approach\n",
    "In this task, we aim to extract the names of the musical artists from the text. Artist names are prefixed with five asterisks (*****). We will use a regular expression to match the patterns that follow the asterisks and capture the artist names."
   ]
  },
  {
   "cell_type": "code",
   "execution_count": 4,
   "metadata": {},
   "outputs": [
    {
     "data": {
      "text/plain": [
       "['Black Stone Cherry',\n",
       " 'Lady Gaga',\n",
       " 'Paramore',\n",
       " 'Rage Against the Machine',\n",
       " 'BEYONCE',\n",
       " '']"
      ]
     },
     "execution_count": 4,
     "metadata": {},
     "output_type": "execute_result"
    }
   ],
   "source": [
    "class ConcertAnalysis:\n",
    "    def __init__(self, text):\n",
    "        self.text = text\n",
    "    \n",
    "    def task_two(self):\n",
    "        \"\"\"\n",
    "        Extracts the names of each musical artist from the text.\n",
    "    \n",
    "        Parameters:\n",
    "        None\n",
    "    \n",
    "        Returns:\n",
    "        list: A list containing the names of the musical artists.\n",
    "        \"\"\"\n",
    "    \n",
    "        # Extracting artist names\n",
    "        artist_matches = re.findall(r'\\*{5}([^*-]+)', self.text)  # Updated regex to stop at dashes or asterisks\n",
    "        artists = [artist.strip() for artist in artist_matches]\n",
    "    \n",
    "        return artists\n",
    "\n",
    "# Re-initializing the class\n",
    "analysis = ConcertAnalysis(concert_text)\n",
    "\n",
    "# Executing task two\n",
    "artists = analysis.task_two()\n",
    "\n",
    "artists\n"
   ]
  },
  {
   "cell_type": "markdown",
   "metadata": {},
   "source": [
    "### Task 3: Extracting Gross Ticket Revenue\n",
    "#### Approach\n",
    "In this task, our objective is to extract the gross ticket revenue from the text. The revenue information is prefixed with the word \"GATE\" and is presented in dollar amounts. We will use a regular expression to identify the pattern corresponding to the revenue and capture the numeric values associated with it."
   ]
  },
  {
   "cell_type": "code",
   "execution_count": 5,
   "metadata": {},
   "outputs": [
    {
     "data": {
      "text/plain": [
       "[28492.0, 461956.0, 150000.0, 724087.0, 2400000.0]"
      ]
     },
     "execution_count": 5,
     "metadata": {},
     "output_type": "execute_result"
    }
   ],
   "source": [
    "class ConcertAnalysis:\n",
    "    def __init__(self, text):\n",
    "        self.text = text\n",
    "    \n",
    "    \n",
    "    def task_three(self):\n",
    "        \"\"\"\n",
    "        Extracts the Gross ticket revenue for each concert from the text.\n",
    "    \n",
    "        Parameters:\n",
    "        None\n",
    "    \n",
    "        Returns:\n",
    "        list: A list containing the gross ticket revenues as floats.\n",
    "        \"\"\"\n",
    "    \n",
    "        # Extracting gross ticket revenue\n",
    "        revenue_matches = re.findall(r'GATE:[^$]*\\$([\\d,]+)', self.text)\n",
    "        revenues = [float(revenue.replace(',', '')) for revenue in revenue_matches]\n",
    "        \n",
    "        return revenues\n",
    "\n",
    "# Re-initializing the class\n",
    "analysis = ConcertAnalysis(concert_text)\n",
    "\n",
    "# Executing task three\n",
    "revenues = analysis.task_three()\n",
    "\n",
    "revenues\n"
   ]
  },
  {
   "cell_type": "markdown",
   "metadata": {},
   "source": [
    "### Task 4: Creating a Nested Dictionary\n",
    "#### Approach\n",
    "In this task, we will create a nested dictionary that maps each artist to various calculated values, such as:\n",
    "\n",
    "The average ticket price for each concert\n",
    "\n",
    "A Boolean indicating whether or not the artist’s name is comprised of more than just a single word\n",
    "\n",
    "How full the venue was (i.e., how much of the available capacity was filled according to the attendance)"
   ]
  },
  {
   "cell_type": "code",
   "execution_count": 6,
   "metadata": {},
   "outputs": [
    {
     "data": {
      "text/plain": [
       "{'Black Stone Cherry': {'average_ticket_price': '$21.67',\n",
       "  'multi_word_name': True,\n",
       "  'venue_fill_percentage': '87.67%'},\n",
       " 'Lady Gaga': {'average_ticket_price': '$18.96',\n",
       "  'multi_word_name': True,\n",
       "  'venue_fill_percentage': '97.47%'},\n",
       " 'Paramore': {'average_ticket_price': '$50.00',\n",
       "  'multi_word_name': False,\n",
       "  'venue_fill_percentage': '100.00%'},\n",
       " 'Rage Against the Machine': {'average_ticket_price': '$67.16',\n",
       "  'multi_word_name': True,\n",
       "  'venue_fill_percentage': '89.85%'}}"
      ]
     },
     "execution_count": 6,
     "metadata": {},
     "output_type": "execute_result"
    }
   ],
   "source": [
    "class ConcertAnalysis:\n",
    "    def __init__(self, text):\n",
    "        self.text = text\n",
    "    \n",
    "    def task_four(self, artists, capacities, attendances, revenues):\n",
    "        \"\"\"\n",
    "        Creates a nested dictionary with various calculated values for each artist.\n",
    "    \n",
    "        Parameters:\n",
    "        artists (list): List of artist names.\n",
    "        capacities (list): List of venue capacities.\n",
    "        attendances (list): List of concert attendances.\n",
    "        revenues (list): List of gross ticket revenues.\n",
    "    \n",
    "        Returns:\n",
    "        dict: A nested dictionary with calculated values for each artist.\n",
    "        \"\"\"\n",
    "    \n",
    "        concert_info = {}\n",
    "        for artist, capacity, attendance, revenue in zip(artists, capacities, attendances, revenues):\n",
    "            concert_info[artist] = {\n",
    "                'average_ticket_price': f\"${revenue / attendance:.2f}\",\n",
    "                'multi_word_name': len(artist.split()) > 1,\n",
    "                'venue_fill_percentage': f\"{(attendance / capacity) * 100:.2f}%\"\n",
    "            }\n",
    "    \n",
    "        return concert_info\n",
    "\n",
    "# Re-initializing the class\n",
    "analysis = ConcertAnalysis(concert_text)\n",
    "\n",
    "# Executing task four\n",
    "concert_info = analysis.task_four(artists, capacities, attendances, revenues)\n",
    "\n",
    "concert_info\n"
   ]
  },
  {
   "cell_type": "markdown",
   "metadata": {},
   "source": [
    "### Task 5: Correcting a Regular Expression\n",
    "#### Approach\n",
    "In this task, a regular expression is given that fails to match a specific text string. Our goal is to correct this regular expression and explain why the initial one failed.\n",
    "\n",
    "The given text string is 'FIdD1E7h=' and the regular expression to match is '\\D[a-zA-Z]*[^,]='"
   ]
  },
  {
   "cell_type": "code",
   "execution_count": 9,
   "metadata": {},
   "outputs": [
    {
     "data": {
      "text/plain": [
       "'FIdD1E7h='"
      ]
     },
     "execution_count": 9,
     "metadata": {},
     "output_type": "execute_result"
    }
   ],
   "source": [
    "class ConcertAnalysis:\n",
    "    def __init__(self, text=None):\n",
    "        self.text = text\n",
    "    \n",
    "    \n",
    "    def task_five(self, text=\"FIdD1E7h=\"):\n",
    "        \"\"\"\n",
    "        Matches a string with a corrected regular expression.\n",
    "        \n",
    "        Parameters:\n",
    "        text (str): The text to match against the regular expression. Default is \"FIdD1E7h=\".\n",
    "        \n",
    "        Returns:\n",
    "        str: The matched string or \"No match\" if no match is found.\n",
    "        \"\"\"\n",
    "        \n",
    "        # Corrected regular expression\n",
    "        regex = r\"\\S+[^,]=\"\n",
    "        \n",
    "        match = re.search(regex, text)\n",
    "        return match.group() if match else \"No match\"\n",
    "\n",
    "# Re-initializing the class\n",
    "analysis = ConcertAnalysis()\n",
    "\n",
    "# Executing task five with the corrected regex\n",
    "match_result = analysis.task_five()\n",
    "\n",
    "match_result\n"
   ]
  },
  {
   "cell_type": "markdown",
   "metadata": {},
   "source": [
    "### Task 6: Extracting an Adverb from a Sentence\n",
    "#### Approach\n",
    "In this task, we aim to extract an adverb from a sentence. The adverb in question ends with \"ly.\" The given regular expression \"$*\\s+ly\\w+\" fails to achieve this. We will correct this regular expression to successfully extract the adverb and explain why the initial expression didn’t work."
   ]
  },
  {
   "cell_type": "code",
   "execution_count": 10,
   "metadata": {},
   "outputs": [
    {
     "data": {
      "text/plain": [
       "'carefully'"
      ]
     },
     "execution_count": 10,
     "metadata": {},
     "output_type": "execute_result"
    }
   ],
   "source": [
    "class ConcertAnalysis:\n",
    "    def __init__(self, text=None):\n",
    "        self.text = text\n",
    "    \n",
    "    def task_six(self, text=\"The spy was carefully disguised\"):\n",
    "        \"\"\"\n",
    "        Extracts an adverb from a sentence.\n",
    "        \n",
    "        Parameters:\n",
    "        text (str): The sentence to extract the adverb from. Default is \"The spy was carefully disguised\".\n",
    "        \n",
    "        Returns:\n",
    "        str: The extracted adverb or \"No match\" if no adverb is found.\n",
    "        \"\"\"\n",
    "        \n",
    "        # Corrected regular expression to match words ending with 'ly'\n",
    "        regex = r\"\\b\\w+ly\\b\"\n",
    "        \n",
    "        match = re.search(regex, text)\n",
    "        return match.group() if match else \"No match\"\n",
    "\n",
    "# Re-initializing the class\n",
    "analysis = ConcertAnalysis()\n",
    "\n",
    "# Executing task six with the corrected regex\n",
    "adverb = analysis.task_six()\n",
    "\n",
    "adverb\n"
   ]
  }
 ],
 "metadata": {
  "kernelspec": {
   "display_name": "Python 3",
   "language": "python",
   "name": "python3"
  },
  "language_info": {
   "codemirror_mode": {
    "name": "ipython",
    "version": 3
   },
   "file_extension": ".py",
   "mimetype": "text/x-python",
   "name": "python",
   "nbconvert_exporter": "python",
   "pygments_lexer": "ipython3",
   "version": "3.11.0"
  }
 },
 "nbformat": 4,
 "nbformat_minor": 2
}
